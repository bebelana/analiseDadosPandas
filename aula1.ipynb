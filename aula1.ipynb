{
  "nbformat": 4,
  "nbformat_minor": 0,
  "metadata": {
    "colab": {
      "provenance": [],
      "authorship_tag": "ABX9TyNOfxBcgsMwGXW3Rc5K5DR1",
      "include_colab_link": true
    },
    "kernelspec": {
      "name": "python3",
      "display_name": "Python 3"
    },
    "language_info": {
      "name": "python"
    }
  },
  "cells": [
    {
      "cell_type": "markdown",
      "metadata": {
        "id": "view-in-github",
        "colab_type": "text"
      },
      "source": [
        "<a href=\"https://colab.research.google.com/github/bebelana/analiseDadosPandas/blob/main/aula1.ipynb\" target=\"_parent\"><img src=\"https://colab.research.google.com/assets/colab-badge.svg\" alt=\"Open In Colab\"/></a>"
      ]
    },
    {
      "cell_type": "markdown",
      "source": [
        "Primeiro exemplo de manipulação de dados com o **Pandas**\n",
        "\n",
        "Autor: Ana Izabel\n",
        "\n",
        "Data: 06/02/2023"
      ],
      "metadata": {
        "id": "xVT_1AgRUiDB"
      }
    },
    {
      "cell_type": "code",
      "source": [
        "# Importando biblioteca pandas do python\n",
        "import pandas as pd\n"
      ],
      "metadata": {
        "id": "aN4u8VUD_ta8"
      },
      "execution_count": 11,
      "outputs": []
    },
    {
      "cell_type": "code",
      "source": [
        "# Carregando um conjunto de dados\n",
        "df = pd.read_csv(\"/precos-semestrais-ca-2022-01.csv\",sep=\";\")"
      ],
      "metadata": {
        "id": "UCP4g39LJuQG"
      },
      "execution_count": 12,
      "outputs": []
    },
    {
      "cell_type": "code",
      "source": [
        "# Verificando linhas e colunas do dataframe \n",
        "df.shape"
      ],
      "metadata": {
        "colab": {
          "base_uri": "https://localhost:8080/"
        },
        "id": "XB124NvaUDUK",
        "outputId": "8c4c0970-4f25-417d-9cc3-12243fa0805f"
      },
      "execution_count": 10,
      "outputs": [
        {
          "output_type": "execute_result",
          "data": {
            "text/plain": [
              "(529424, 16)"
            ]
          },
          "metadata": {},
          "execution_count": 10
        }
      ]
    },
    {
      "cell_type": "code",
      "source": [
        "# Exibindo as primeiras 5 linhas do DataFrame\n",
        "print(df.head())"
      ],
      "metadata": {
        "colab": {
          "base_uri": "https://localhost:8080/"
        },
        "id": "Y49Udy4jVdKc",
        "outputId": "0ce70585-fb3e-47d5-f85f-504fe018e78c"
      },
      "execution_count": 13,
      "outputs": [
        {
          "output_type": "stream",
          "name": "stdout",
          "text": [
            "  Regiao - Sigla Estado - Sigla   Municipio                    Revenda  \\\n",
            "0              N             AC  RIO BRANCO  AUTO POSTO AMAPA - EIRELI   \n",
            "1              N             AC  RIO BRANCO  AUTO POSTO AMAPA - EIRELI   \n",
            "2              N             AC  RIO BRANCO  AUTO POSTO AMAPA - EIRELI   \n",
            "3              N             AC  RIO BRANCO  AUTO POSTO AMAPA - EIRELI   \n",
            "4              N             AC  RIO BRANCO  AUTO POSTO AMAPA - EIRELI   \n",
            "\n",
            "       CNPJ da Revenda       Nome da Rua Numero Rua Complemento Bairro  \\\n",
            "0   00.529.581/0001-53  VIA CHICO MENDES       3570         NaN  AREAL   \n",
            "1   00.529.581/0001-53  VIA CHICO MENDES       3570         NaN  AREAL   \n",
            "2   00.529.581/0001-53  VIA CHICO MENDES       3570         NaN  AREAL   \n",
            "3   00.529.581/0001-53  VIA CHICO MENDES       3570         NaN  AREAL   \n",
            "4   00.529.581/0001-53  VIA CHICO MENDES       3570         NaN  AREAL   \n",
            "\n",
            "         Cep             Produto Data da Coleta Valor de Venda  \\\n",
            "0  69906-119            GASOLINA     03/01/2022           6,99   \n",
            "1  69906-119              ETANOL     03/01/2022           5,99   \n",
            "2  69906-119              DIESEL     03/01/2022           6,09   \n",
            "3  69906-119  GASOLINA ADITIVADA     03/01/2022           7,05   \n",
            "4  69906-119          DIESEL S10     03/01/2022           6,12   \n",
            "\n",
            "   Valor de Compra Unidade de Medida       Bandeira  \n",
            "0              NaN        R$ / litro  VIBRA ENERGIA  \n",
            "1              NaN        R$ / litro  VIBRA ENERGIA  \n",
            "2              NaN        R$ / litro  VIBRA ENERGIA  \n",
            "3              NaN        R$ / litro  VIBRA ENERGIA  \n",
            "4              NaN        R$ / litro  VIBRA ENERGIA  \n"
          ]
        }
      ]
    },
    {
      "cell_type": "code",
      "source": [
        "# Exibindo os nomes das colunas existentes do dataframe\n",
        "print(df.columns)"
      ],
      "metadata": {
        "colab": {
          "base_uri": "https://localhost:8080/"
        },
        "id": "IW7_fuO3YWIA",
        "outputId": "4fff22ed-ad3a-47ef-eaab-921fcced968d"
      },
      "execution_count": 14,
      "outputs": [
        {
          "output_type": "stream",
          "name": "stdout",
          "text": [
            "Index(['Regiao - Sigla', 'Estado - Sigla', 'Municipio', 'Revenda',\n",
            "       'CNPJ da Revenda', 'Nome da Rua', 'Numero Rua', 'Complemento', 'Bairro',\n",
            "       'Cep', 'Produto', 'Data da Coleta', 'Valor de Venda', 'Valor de Compra',\n",
            "       'Unidade de Medida', 'Bandeira'],\n",
            "      dtype='object')\n"
          ]
        }
      ]
    },
    {
      "cell_type": "code",
      "source": [
        "# Obtendo informações sobre o DataFrame\n",
        "print(df.info())"
      ],
      "metadata": {
        "colab": {
          "base_uri": "https://localhost:8080/"
        },
        "id": "b0a-rx3Hay9b",
        "outputId": "ee9937f6-7db4-4694-fb85-f23737c9a1da"
      },
      "execution_count": 15,
      "outputs": [
        {
          "output_type": "stream",
          "name": "stdout",
          "text": [
            "<class 'pandas.core.frame.DataFrame'>\n",
            "RangeIndex: 529424 entries, 0 to 529423\n",
            "Data columns (total 16 columns):\n",
            " #   Column             Non-Null Count   Dtype  \n",
            "---  ------             --------------   -----  \n",
            " 0   Regiao - Sigla     529424 non-null  object \n",
            " 1   Estado - Sigla     529424 non-null  object \n",
            " 2   Municipio          529424 non-null  object \n",
            " 3   Revenda            529424 non-null  object \n",
            " 4   CNPJ da Revenda    529424 non-null  object \n",
            " 5   Nome da Rua        529424 non-null  object \n",
            " 6   Numero Rua         529211 non-null  object \n",
            " 7   Complemento        113936 non-null  object \n",
            " 8   Bairro             527991 non-null  object \n",
            " 9   Cep                529424 non-null  object \n",
            " 10  Produto            529424 non-null  object \n",
            " 11  Data da Coleta     529424 non-null  object \n",
            " 12  Valor de Venda     529424 non-null  object \n",
            " 13  Valor de Compra    0 non-null       float64\n",
            " 14  Unidade de Medida  529424 non-null  object \n",
            " 15  Bandeira           529424 non-null  object \n",
            "dtypes: float64(1), object(15)\n",
            "memory usage: 64.6+ MB\n",
            "None\n"
          ]
        }
      ]
    }
  ]
}